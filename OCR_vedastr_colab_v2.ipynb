{
  "nbformat": 4,
  "nbformat_minor": 0,
  "metadata": {
    "colab": {
      "name": "OCR_vedastr_colab--v2.ipynb",
      "provenance": [],
      "collapsed_sections": [],
      "toc_visible": true
    },
    "kernelspec": {
      "name": "python3",
      "display_name": "Python 3"
    },
    "language_info": {
      "name": "python"
    }
  },
  "cells": [
    {
      "cell_type": "markdown",
      "metadata": {
        "id": "IDBnTttxvucH"
      },
      "source": [
        "# Media-Smart/vedastr\n",
        "\n",
        "## Expectated Input:\n",
        "\n",
        "1) Input image: Must be only single word image.\n",
        "\n",
        "test image is located here:\n",
        "https://drive.google.com/drive/folders/1Zr17Rcc7gTJ9SPV5phN6TwE4jr6shP2w\n",
        "\n",
        "\n",
        "\n",
        "Input image will be resized to size 32, 100."
      ]
    },
    {
      "cell_type": "markdown",
      "metadata": {
        "id": "IWCi2kM31QG9"
      },
      "source": [
        "## Clone code"
      ]
    },
    {
      "cell_type": "code",
      "metadata": {
        "colab": {
          "base_uri": "https://localhost:8080/"
        },
        "id": "hp9b9mX3vqTj",
        "outputId": "6b50faa0-b5bb-4e72-cf64-9650908cd24d"
      },
      "source": [
        "# !git clone https://github.com/Media-Smart/vedastr.git\n",
        "!git clone https://github.com/Nivratti/OCR-vedastr.git"
      ],
      "execution_count": 1,
      "outputs": [
        {
          "output_type": "stream",
          "text": [
            "Cloning into 'OCR-vedastr'...\n",
            "remote: Enumerating objects: 1599, done.\u001b[K\n",
            "remote: Counting objects: 100% (200/200), done.\u001b[K\n",
            "remote: Compressing objects: 100% (190/190), done.\u001b[K\n",
            "remote: Total 1599 (delta 30), reused 108 (delta 8), pack-reused 1399\u001b[K\n",
            "Receiving objects: 100% (1599/1599), 383.18 KiB | 13.21 MiB/s, done.\n",
            "Resolving deltas: 100% (874/874), done.\n"
          ],
          "name": "stdout"
        }
      ]
    },
    {
      "cell_type": "markdown",
      "metadata": {
        "id": "AGZPjLIfwToK"
      },
      "source": [
        "## Install requirements"
      ]
    },
    {
      "cell_type": "code",
      "metadata": {
        "colab": {
          "base_uri": "https://localhost:8080/"
        },
        "id": "o1fQYOUswTzM",
        "outputId": "b787b66e-b275-4a6e-991e-44c1c027ba82"
      },
      "source": [
        "!pip install -r OCR-vedastr/vedastr/requirements.txt"
      ],
      "execution_count": 2,
      "outputs": [
        {
          "output_type": "stream",
          "text": [
            "Requirement already satisfied: numpy in /usr/local/lib/python3.7/dist-packages (from -r OCR-vedastr/vedastr/requirements.txt (line 1)) (1.19.5)\n",
            "Requirement already satisfied: opencv-python in /usr/local/lib/python3.7/dist-packages (from -r OCR-vedastr/vedastr/requirements.txt (line 2)) (4.1.2.30)\n",
            "Collecting addict\n",
            "  Downloading https://files.pythonhosted.org/packages/6a/00/b08f23b7d7e1e14ce01419a467b583edbb93c6cdb8654e54a9cc579cd61f/addict-2.4.0-py3-none-any.whl\n",
            "Requirement already satisfied: six in /usr/local/lib/python3.7/dist-packages (from -r OCR-vedastr/vedastr/requirements.txt (line 4)) (1.15.0)\n",
            "Requirement already satisfied: torch>=1.4.* in /usr/local/lib/python3.7/dist-packages (from -r OCR-vedastr/vedastr/requirements.txt (line 5)) (1.8.1+cu101)\n",
            "Requirement already satisfied: torchvision>=0.5.* in /usr/local/lib/python3.7/dist-packages (from -r OCR-vedastr/vedastr/requirements.txt (line 6)) (0.9.1+cu101)\n",
            "Requirement already satisfied: pillow in /usr/local/lib/python3.7/dist-packages (from -r OCR-vedastr/vedastr/requirements.txt (line 8)) (7.1.2)\n",
            "Requirement already satisfied: lmdb in /usr/local/lib/python3.7/dist-packages (from -r OCR-vedastr/vedastr/requirements.txt (line 9)) (0.99)\n",
            "Requirement already satisfied: nltk in /usr/local/lib/python3.7/dist-packages (from -r OCR-vedastr/vedastr/requirements.txt (line 10)) (3.2.5)\n",
            "Collecting terminaltables\n",
            "  Downloading https://files.pythonhosted.org/packages/9b/c4/4a21174f32f8a7e1104798c445dacdc1d4df86f2f26722767034e4de4bff/terminaltables-3.1.0.tar.gz\n",
            "Requirement already satisfied: albumentations in /usr/local/lib/python3.7/dist-packages (from -r OCR-vedastr/vedastr/requirements.txt (line 12)) (0.1.12)\n",
            "Requirement already satisfied: gdown in /usr/local/lib/python3.7/dist-packages (from -r OCR-vedastr/vedastr/requirements.txt (line 14)) (3.6.4)\n",
            "Collecting loguru\n",
            "\u001b[?25l  Downloading https://files.pythonhosted.org/packages/6d/48/0a7d5847e3de329f1d0134baf707b689700b53bd3066a5a8cfd94b3c9fc8/loguru-0.5.3-py3-none-any.whl (57kB)\n",
            "\u001b[K     |████████████████████████████████| 61kB 5.8MB/s \n",
            "\u001b[?25hRequirement already satisfied: typing-extensions in /usr/local/lib/python3.7/dist-packages (from torch>=1.4.*->-r OCR-vedastr/vedastr/requirements.txt (line 5)) (3.7.4.3)\n",
            "Requirement already satisfied: scipy in /usr/local/lib/python3.7/dist-packages (from albumentations->-r OCR-vedastr/vedastr/requirements.txt (line 12)) (1.4.1)\n",
            "Collecting imgaug<0.2.7,>=0.2.5\n",
            "\u001b[?25l  Downloading https://files.pythonhosted.org/packages/ad/2e/748dbb7bb52ec8667098bae9b585f448569ae520031932687761165419a2/imgaug-0.2.6.tar.gz (631kB)\n",
            "\u001b[K     |████████████████████████████████| 634kB 36.4MB/s \n",
            "\u001b[?25hRequirement already satisfied: requests in /usr/local/lib/python3.7/dist-packages (from gdown->-r OCR-vedastr/vedastr/requirements.txt (line 14)) (2.23.0)\n",
            "Requirement already satisfied: tqdm in /usr/local/lib/python3.7/dist-packages (from gdown->-r OCR-vedastr/vedastr/requirements.txt (line 14)) (4.41.1)\n",
            "Requirement already satisfied: scikit-image>=0.11.0 in /usr/local/lib/python3.7/dist-packages (from imgaug<0.2.7,>=0.2.5->albumentations->-r OCR-vedastr/vedastr/requirements.txt (line 12)) (0.16.2)\n",
            "Requirement already satisfied: chardet<4,>=3.0.2 in /usr/local/lib/python3.7/dist-packages (from requests->gdown->-r OCR-vedastr/vedastr/requirements.txt (line 14)) (3.0.4)\n",
            "Requirement already satisfied: idna<3,>=2.5 in /usr/local/lib/python3.7/dist-packages (from requests->gdown->-r OCR-vedastr/vedastr/requirements.txt (line 14)) (2.10)\n",
            "Requirement already satisfied: urllib3!=1.25.0,!=1.25.1,<1.26,>=1.21.1 in /usr/local/lib/python3.7/dist-packages (from requests->gdown->-r OCR-vedastr/vedastr/requirements.txt (line 14)) (1.24.3)\n",
            "Requirement already satisfied: certifi>=2017.4.17 in /usr/local/lib/python3.7/dist-packages (from requests->gdown->-r OCR-vedastr/vedastr/requirements.txt (line 14)) (2020.12.5)\n",
            "Requirement already satisfied: matplotlib!=3.0.0,>=2.0.0 in /usr/local/lib/python3.7/dist-packages (from scikit-image>=0.11.0->imgaug<0.2.7,>=0.2.5->albumentations->-r OCR-vedastr/vedastr/requirements.txt (line 12)) (3.2.2)\n",
            "Requirement already satisfied: PyWavelets>=0.4.0 in /usr/local/lib/python3.7/dist-packages (from scikit-image>=0.11.0->imgaug<0.2.7,>=0.2.5->albumentations->-r OCR-vedastr/vedastr/requirements.txt (line 12)) (1.1.1)\n",
            "Requirement already satisfied: imageio>=2.3.0 in /usr/local/lib/python3.7/dist-packages (from scikit-image>=0.11.0->imgaug<0.2.7,>=0.2.5->albumentations->-r OCR-vedastr/vedastr/requirements.txt (line 12)) (2.4.1)\n",
            "Requirement already satisfied: networkx>=2.0 in /usr/local/lib/python3.7/dist-packages (from scikit-image>=0.11.0->imgaug<0.2.7,>=0.2.5->albumentations->-r OCR-vedastr/vedastr/requirements.txt (line 12)) (2.5.1)\n",
            "Requirement already satisfied: pyparsing!=2.0.4,!=2.1.2,!=2.1.6,>=2.0.1 in /usr/local/lib/python3.7/dist-packages (from matplotlib!=3.0.0,>=2.0.0->scikit-image>=0.11.0->imgaug<0.2.7,>=0.2.5->albumentations->-r OCR-vedastr/vedastr/requirements.txt (line 12)) (2.4.7)\n",
            "Requirement already satisfied: kiwisolver>=1.0.1 in /usr/local/lib/python3.7/dist-packages (from matplotlib!=3.0.0,>=2.0.0->scikit-image>=0.11.0->imgaug<0.2.7,>=0.2.5->albumentations->-r OCR-vedastr/vedastr/requirements.txt (line 12)) (1.3.1)\n",
            "Requirement already satisfied: cycler>=0.10 in /usr/local/lib/python3.7/dist-packages (from matplotlib!=3.0.0,>=2.0.0->scikit-image>=0.11.0->imgaug<0.2.7,>=0.2.5->albumentations->-r OCR-vedastr/vedastr/requirements.txt (line 12)) (0.10.0)\n",
            "Requirement already satisfied: python-dateutil>=2.1 in /usr/local/lib/python3.7/dist-packages (from matplotlib!=3.0.0,>=2.0.0->scikit-image>=0.11.0->imgaug<0.2.7,>=0.2.5->albumentations->-r OCR-vedastr/vedastr/requirements.txt (line 12)) (2.8.1)\n",
            "Requirement already satisfied: decorator<5,>=4.3 in /usr/local/lib/python3.7/dist-packages (from networkx>=2.0->scikit-image>=0.11.0->imgaug<0.2.7,>=0.2.5->albumentations->-r OCR-vedastr/vedastr/requirements.txt (line 12)) (4.4.2)\n",
            "Building wheels for collected packages: terminaltables, imgaug\n",
            "  Building wheel for terminaltables (setup.py) ... \u001b[?25l\u001b[?25hdone\n",
            "  Created wheel for terminaltables: filename=terminaltables-3.1.0-cp37-none-any.whl size=15356 sha256=bd7a8739c6558223a00ffb328dd5bc62e6ba8101bae6a21c13a0938636da5cce\n",
            "  Stored in directory: /root/.cache/pip/wheels/30/6b/50/6c75775b681fb36cdfac7f19799888ef9d8813aff9e379663e\n",
            "  Building wheel for imgaug (setup.py) ... \u001b[?25l\u001b[?25hdone\n",
            "  Created wheel for imgaug: filename=imgaug-0.2.6-cp37-none-any.whl size=654019 sha256=2557a0ea3356529552b3713b5c9ccaeac5d4b49ea37af6ff1bf2d63ca536b469\n",
            "  Stored in directory: /root/.cache/pip/wheels/97/ec/48/0d25896c417b715af6236dbcef8f0bed136a1a5e52972fc6d0\n",
            "Successfully built terminaltables imgaug\n",
            "Installing collected packages: addict, terminaltables, loguru, imgaug\n",
            "  Found existing installation: imgaug 0.2.9\n",
            "    Uninstalling imgaug-0.2.9:\n",
            "      Successfully uninstalled imgaug-0.2.9\n",
            "Successfully installed addict-2.4.0 imgaug-0.2.6 loguru-0.5.3 terminaltables-3.1.0\n"
          ],
          "name": "stdout"
        }
      ]
    },
    {
      "cell_type": "markdown",
      "metadata": {
        "id": "tSKf4NsnwiiU"
      },
      "source": [
        "## Inference on single word image"
      ]
    },
    {
      "cell_type": "code",
      "metadata": {
        "colab": {
          "base_uri": "https://localhost:8080/"
        },
        "id": "sjKuaZ8ywgsE",
        "outputId": "8c5bddee-8480-4687-b175-1a48be1fa0ee"
      },
      "source": [
        "%cd \"/content/OCR-vedastr\""
      ],
      "execution_count": 5,
      "outputs": [
        {
          "output_type": "stream",
          "text": [
            "/content/OCR-vedastr\n"
          ],
          "name": "stdout"
        }
      ]
    },
    {
      "cell_type": "code",
      "metadata": {
        "colab": {
          "base_uri": "https://localhost:8080/",
          "height": 105
        },
        "id": "628_0UnSJkzK",
        "outputId": "5aa17830-d6a3-4f3b-87fc-bf3fb922974b"
      },
      "source": [
        "import gdown\n",
        "\n",
        "# download test image\n",
        "url = 'https://drive.google.com/uc?id=1TdFP9xNVofQxYuA_RK0FUiukHS0R2tZI'\n",
        "output = './test.jpg'\n",
        "gdown.download(url, output, quiet=False)"
      ],
      "execution_count": 6,
      "outputs": [
        {
          "output_type": "stream",
          "text": [
            "Downloading...\n",
            "From: https://drive.google.com/uc?id=1TdFP9xNVofQxYuA_RK0FUiukHS0R2tZI\n",
            "To: /content/OCR-vedastr/test.jpg\n",
            "100%|██████████| 14.3k/14.3k [00:00<00:00, 2.12MB/s]\n"
          ],
          "name": "stderr"
        },
        {
          "output_type": "execute_result",
          "data": {
            "application/vnd.google.colaboratory.intrinsic+json": {
              "type": "string"
            },
            "text/plain": [
              "'./test.jpg'"
            ]
          },
          "metadata": {
            "tags": []
          },
          "execution_count": 6
        }
      ]
    },
    {
      "cell_type": "code",
      "metadata": {
        "colab": {
          "base_uri": "https://localhost:8080/"
        },
        "id": "Vjw7y6neC7TK",
        "outputId": "6edfa991-ebd1-43ba-f692-751035a9df9a"
      },
      "source": [
        "from small_satrn_inference import load_model\n",
        "\n",
        "runner = load_model()"
      ],
      "execution_count": 8,
      "outputs": [
        {
          "output_type": "stream",
          "text": [
            "2021-04-29 13:13:14.069 | INFO     | vedastr.helper:download_drive_file:19 - downloading file from google drive.\n",
            "Downloading...\n",
            "From: https://drive.google.com/uc?id=1bcKtEcYGIOehgPfGi_TqPkvrm6rjOUKR\n",
            "To: /root/OCR/vedastr/small_satrn.pth\n",
            "195MB [00:01, 102MB/s]\n"
          ],
          "name": "stderr"
        },
        {
          "output_type": "stream",
          "text": [
            "2021-04-29 13:13:17,271 - INFO - Use CPU\n",
            "2021-04-29 13:13:17,273 - INFO - Set cudnn deterministic True\n",
            "2021-04-29 13:13:17,279 - INFO - Set cudnn benchmark True\n",
            "2021-04-29 13:13:17,284 - INFO - Set seed 1111\n",
            "2021-04-29 13:13:17,297 - INFO - Build model\n",
            "2021-04-29 13:13:17,382 - INFO - GResNet init weights\n",
            "2021-04-29 13:13:17,905 - INFO - TransformerEncoder init weights\n",
            "2021-04-29 13:13:18,435 - INFO - TransformerDecoder init weights\n",
            "2021-04-29 13:13:18,492 - INFO - TransformerHead init weights\n",
            "2021-04-29 13:13:18,543 - INFO - Load checkpoint from /root/OCR/vedastr/small_satrn.pth\n"
          ],
          "name": "stdout"
        }
      ]
    },
    {
      "cell_type": "code",
      "metadata": {
        "colab": {
          "base_uri": "https://localhost:8080/"
        },
        "id": "JnEdPtvtE-Xs",
        "outputId": "2caa26a4-ebf2-44c4-9271-ac551b60e949"
      },
      "source": [
        "import cv2\n",
        "\n",
        "image_filepath = \"/content/OCR-vedastr/vedastr/test.jpg\"\n",
        "\n",
        "image = cv2.imread(image_filepath)\n",
        "image = cv2.cvtColor(image, cv2.COLOR_BGR2RGB)\n",
        "pred_str, probs = runner(image)\n",
        "# runner.logger.info('predict string: {} \\t of {}'.format(pred_str, img))\n",
        "print('predict string: {} \\t of {}'.format(pred_str, image_filepath))\n"
      ],
      "execution_count": 10,
      "outputs": [
        {
          "output_type": "stream",
          "text": [
            "predict string: ['RONALDO'] \t of /content/OCR-vedastr/vedastr/test.jpg\n"
          ],
          "name": "stdout"
        }
      ]
    }
  ]
}